{
  "cells": [
    {
      "cell_type": "markdown",
      "metadata": {
        "id": "LIEElzbhgCgr"
      },
      "source": [
        "## Used Car Data Extracted Using ETL\n"
      ]
    },
    {
      "cell_type": "code",
      "source": [
        "import glob                         # this module helps in selecting files \n",
        "import pandas as pd                 # this module helps in processing CSV files\n",
        "import xml.etree.ElementTree as ET  # this module helps in processing XML files.\n",
        "from datetime import datetime"
      ],
      "metadata": {
        "id": "kHIl26B-19Lv"
      },
      "execution_count": null,
      "outputs": []
    },
    {
      "cell_type": "code",
      "execution_count": 3,
      "metadata": {
        "colab": {
          "base_uri": "https://localhost:8080/"
        },
        "id": "IXRcMxXfgCgr",
        "outputId": "b7eac253-88a2-4b3c-8353-a304cff9d7db"
      },
      "outputs": [
        {
          "output_type": "stream",
          "name": "stdout",
          "text": [
            "--2023-05-07 04:38:22--  https://cf-courses-data.s3.us.cloud-object-storage.appdomain.cloud/IBMDeveloperSkillsNetwork-PY0221EN-SkillsNetwork/labs/module%206/Lab%20-%20Extract%20Transform%20Load/data/datasource.zip\n",
            "Resolving cf-courses-data.s3.us.cloud-object-storage.appdomain.cloud (cf-courses-data.s3.us.cloud-object-storage.appdomain.cloud)... 169.63.118.104\n",
            "Connecting to cf-courses-data.s3.us.cloud-object-storage.appdomain.cloud (cf-courses-data.s3.us.cloud-object-storage.appdomain.cloud)|169.63.118.104|:443... connected.\n",
            "HTTP request sent, awaiting response... 200 OK\n",
            "Length: 4249 (4.1K) [application/zip]\n",
            "Saving to: ‘datasource.zip.1’\n",
            "\n",
            "\rdatasource.zip.1      0%[                    ]       0  --.-KB/s               \rdatasource.zip.1    100%[===================>]   4.15K  --.-KB/s    in 0s      \n",
            "\n",
            "2023-05-07 04:38:22 (841 MB/s) - ‘datasource.zip.1’ saved [4249/4249]\n",
            "\n"
          ]
        }
      ],
      "source": [
        "!wget https://cf-courses-data.s3.us.cloud-object-storage.appdomain.cloud/IBMDeveloperSkillsNetwork-PY0221EN-SkillsNetwork/labs/module%206/Lab%20-%20Extract%20Transform%20Load/data/datasource.zip"
      ]
    },
    {
      "cell_type": "markdown",
      "metadata": {
        "id": "IPl2c0_AgCgs"
      },
      "source": [
        "## Unzip Files\n"
      ]
    },
    {
      "cell_type": "code",
      "execution_count": 4,
      "metadata": {
        "colab": {
          "base_uri": "https://localhost:8080/"
        },
        "id": "AfKuFQWRgCgs",
        "outputId": "329bf2e8-e05c-4d31-c83e-ca4feec2ab75"
      },
      "outputs": [
        {
          "output_type": "stream",
          "name": "stdout",
          "text": [
            "Archive:  datasource.zip\n",
            "  inflating: dealership_data/used_car_prices1.csv  \n",
            "  inflating: dealership_data/used_car_prices2.csv  \n",
            "  inflating: dealership_data/used_car_prices3.csv  \n",
            "  inflating: dealership_data/used_car_prices1.json  \n",
            "  inflating: dealership_data/used_car_prices2.json  \n",
            "  inflating: dealership_data/used_car_prices3.json  \n",
            "  inflating: dealership_data/used_car_prices1.xml  \n",
            "  inflating: dealership_data/used_car_prices2.xml  \n",
            "  inflating: dealership_data/used_car_prices3.xml  \n"
          ]
        }
      ],
      "source": [
        "!unzip datasource.zip -d dealership_data"
      ]
    },
    {
      "cell_type": "markdown",
      "metadata": {
        "id": "EiYypfwkgCgt"
      },
      "source": [
        "## About the Data\n"
      ]
    },
    {
      "cell_type": "markdown",
      "metadata": {
        "id": "HCKief7UgCgt"
      },
      "source": [
        "The file `dealership_data` contains CSV, JSON, and XML files for used car data which contain features named `car_model`, `year_of_manufacture`, `price`, and `fuel`.\n"
      ]
    },
    {
      "cell_type": "markdown",
      "metadata": {
        "id": "fNpohJAUgCgt"
      },
      "source": [
        "## Set Paths\n"
      ]
    },
    {
      "cell_type": "code",
      "execution_count": 5,
      "metadata": {
        "id": "iMDKyEe6gCgt"
      },
      "outputs": [],
      "source": [
        "tmpfile    = \"dealership_temp.tmp\"               # file used to store all extracted data\n",
        "logfile    = \"dealership_logfile.txt\"            # all event logs will be stored in this file\n",
        "targetfile = \"dealership_transformed_data.csv\"   # file where transformed data is stored"
      ]
    },
    {
      "cell_type": "markdown",
      "metadata": {
        "id": "WzOeqmiBgCgt"
      },
      "source": [
        "## Extract\n"
      ]
    },
    {
      "cell_type": "markdown",
      "metadata": {
        "id": "pDlvJcbigCgt"
      },
      "source": [
        "###  CSV Extract Function\n"
      ]
    },
    {
      "cell_type": "code",
      "execution_count": 6,
      "metadata": {
        "id": "jDIjeo1-gCgu"
      },
      "outputs": [],
      "source": [
        "# Add the CSV extract function below\n",
        "# Add the CSV extract function below\n",
        "def extract_from_csv(file_to_process):\n",
        "    dataframe = pd.read_csv(file_to_process)\n",
        "    return dataframe"
      ]
    },
    {
      "cell_type": "markdown",
      "metadata": {
        "id": "vvjzOcKpgCgu"
      },
      "source": [
        "###  JSON Extract Function\n"
      ]
    },
    {
      "cell_type": "code",
      "execution_count": 7,
      "metadata": {
        "id": "U6i4aQJ4gCgu"
      },
      "outputs": [],
      "source": [
        "# Add the JSON extract function below\n",
        "def extract_from_json(file_to_process):\n",
        "    dataframe = pd.read_json(file_to_process, lines=True)\n",
        "    return dataframe\n",
        "\n"
      ]
    },
    {
      "cell_type": "markdown",
      "metadata": {
        "id": "clZzFCM9gCgu"
      },
      "source": [
        "###  XML Extract Function\n"
      ]
    },
    {
      "cell_type": "code",
      "execution_count": 8,
      "metadata": {
        "id": "zocJNOWNgCgu"
      },
      "outputs": [],
      "source": [
        "# Add the XML extract function below, it is the same as the xml extract function above but the column names need to be renamed.\n",
        "def extract_from_xml(file_to_process):\n",
        "    dataframe = pd.DataFrame(columns=['car_model','year_of_manufacture','price', 'fuel'])\n",
        "    tree = ET.parse(file_to_process)\n",
        "    root = tree.getroot()\n",
        "    for person in root:\n",
        "        car_model = person.find(\"car_model\").text\n",
        "        year_of_manufacture = int(person.find(\"year_of_manufacture\").text)\n",
        "        price = float(person.find(\"price\").text)\n",
        "        fuel = person.find(\"fuel\").text\n",
        "        dataframe = dataframe.append({\"car_model\":car_model, \"year_of_manufacture\":year_of_manufacture, \"price\":price, \"fuel\":fuel}, ignore_index=True)\n",
        "    return dataframe"
      ]
    },
    {
      "cell_type": "markdown",
      "metadata": {
        "id": "o_-_7z7vgCgv"
      },
      "source": [
        "###  Extract Function\n",
        "\n",
        "Call the specific extract functions you created above by replacing the `ADD_FUNCTION_CALL` with the proper function call.\n"
      ]
    },
    {
      "cell_type": "code",
      "execution_count": 9,
      "metadata": {
        "id": "xTqsxvvagCgv"
      },
      "outputs": [],
      "source": [
        "def extract():\n",
        "    extracted_data = pd.DataFrame(columns=['car_model','year_of_manufacture','price', 'fuel']) # create an empty data frame to hold extracted data\n",
        "    \n",
        "    #process all csv files\n",
        "    for csvfile in glob.glob(\"dealership_data/*.csv\"):\n",
        "        extracted_data = extracted_data.append('ADD_FUNCTION_CALL', ignore_index=True)\n",
        "        \n",
        "    #process all json files\n",
        "    for jsonfile in glob.glob(\"dealership_data/*.json\"):\n",
        "        extracted_data = extracted_data.append('ADD_FUNCTION_CALL', ignore_index=True)\n",
        "    \n",
        "    #process all xml files\n",
        "    for xmlfile in glob.glob(\"dealership_data/*.xml\"):\n",
        "        extracted_data = extracted_data.append('ADD_FUNCTION_CALL', ignore_index=True)\n",
        "        \n",
        "    return extracted_data"
      ]
    },
    {
      "cell_type": "markdown",
      "metadata": {
        "id": "fhZNZ-ingCgv"
      },
      "source": [
        "## Transform\n"
      ]
    },
    {
      "cell_type": "markdown",
      "metadata": {
        "id": "6TdaHkNkgCgw"
      },
      "source": [
        "###  Transform\n",
        "\n",
        "Round the `price` columns to 2 decimal places\n"
      ]
    },
    {
      "cell_type": "code",
      "execution_count": 10,
      "metadata": {
        "id": "1v_Y_55xgCgw"
      },
      "outputs": [],
      "source": [
        "# Add the transform function below\n",
        "def transform(data):\n",
        "        data['price'] = round(data.price, 2)\n",
        "        return data"
      ]
    },
    {
      "cell_type": "markdown",
      "metadata": {
        "id": "4yJsyQfmgCgx"
      },
      "source": [
        "## Loading\n"
      ]
    },
    {
      "cell_type": "markdown",
      "metadata": {
        "id": "L61Z9yhegCgx"
      },
      "source": [
        "###  Load\n"
      ]
    },
    {
      "cell_type": "code",
      "execution_count": 12,
      "metadata": {
        "id": "B7NFb54VgCgy"
      },
      "outputs": [],
      "source": [
        "# Add the load function below\n",
        "def load(targetfile,data_to_load):\n",
        "    data_to_load.to_csv(targetfile)  "
      ]
    },
    {
      "cell_type": "markdown",
      "metadata": {
        "id": "J0KGAQSwgCgy"
      },
      "source": [
        "## Logging\n"
      ]
    },
    {
      "cell_type": "markdown",
      "metadata": {
        "id": "sT-BGnFLgCgy"
      },
      "source": [
        "###  Log\n",
        "\n",
        "Make sure to change the name of the logfile to the one specified in the set paths section. Change the timestamp order to Hour-Minute-Second-Monthname-Day-Year.\n"
      ]
    },
    {
      "cell_type": "code",
      "execution_count": 13,
      "metadata": {
        "id": "cwF_sSuVgCgz"
      },
      "outputs": [],
      "source": [
        "# Add the log function below\n",
        "def log(message):\n",
        "    timestamp_format = '%H:%M:%S-%h-%d-%Y' #Hour-Minute-Second-MonthName-Day-Year\n",
        "    now = datetime.now() # get current timestamp\n",
        "    timestamp = now.strftime(timestamp_format)\n",
        "    with open(\"dealership_logfile.txt\",\"a\") as f:\n",
        "        f.write(timestamp + ',' + message + '\\n') "
      ]
    },
    {
      "cell_type": "markdown",
      "metadata": {
        "id": "eaiw196mgCgz"
      },
      "source": [
        "## Running ETL Process\n"
      ]
    },
    {
      "cell_type": "markdown",
      "metadata": {
        "id": "-BEIrHUFgCgz"
      },
      "source": [
        "###  ETL Process\n",
        "\n",
        "Run all functions to extract, transform, and load the data. Make sure to log all events using the `log` function. Place your code under each comment.\n"
      ]
    },
    {
      "cell_type": "code",
      "execution_count": null,
      "metadata": {
        "id": "eXeAe8-4gCgz"
      },
      "outputs": [],
      "source": [
        "# Log that you have started the ETL process\n",
        "log(\"ETL begun\")\n",
        "\n",
        "# Log that you have started the Extract step\n",
        "log(\"Extracting\")\n",
        "# Call the Extract function\n",
        "extracted_data = extract()\n",
        "# Log that you have completed the Extract step\n",
        "log(\"Extract complete\")\n",
        "\n",
        "# Log that you have started the Transform step\n",
        "log(\"Transforming\")\n",
        "# Call the Transform function\n",
        "transformed_data = transform(extracted_data)\n",
        "# Log that you have completed the Transform step\n",
        "log(\"Transform complete\")\n",
        "\n",
        "# Log that you have started the Load step\n",
        "log(\"Loading data\")\n",
        "# Call the Load function\n",
        "load(targetfile, transformed_data)\n",
        "# Log that you have completed the Load step\n",
        "log(\"Load complete\")\n",
        "\n",
        "# Log that you have completed the ETL process\n",
        "log(\"ETL complete\")"
      ]
    }
  ],
  "metadata": {
    "kernelspec": {
      "display_name": "Python",
      "language": "python",
      "name": "conda-env-python-py"
    },
    "language_info": {
      "codemirror_mode": {
        "name": "ipython",
        "version": 3
      },
      "file_extension": ".py",
      "mimetype": "text/x-python",
      "name": "python",
      "nbconvert_exporter": "python",
      "pygments_lexer": "ipython3",
      "version": "3.7.12"
    },
    "colab": {
      "provenance": []
    }
  },
  "nbformat": 4,
  "nbformat_minor": 0
}